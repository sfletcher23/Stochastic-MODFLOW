{
 "cells": [
  {
   "cell_type": "code",
   "execution_count": 63,
   "metadata": {
    "collapsed": true
   },
   "outputs": [],
   "source": [
    "from scipy.stats import lognorm\n",
    "from scipy.stats import uniform\n",
    "from scipy.stats import beta\n",
    "from scipy.stats import norm\n",
    "import matplotlib.pyplot as plt\n",
    "import numpy as np\n",
    "%matplotlib inline"
   ]
  },
  {
   "cell_type": "code",
   "execution_count": 26,
   "metadata": {},
   "outputs": [],
   "source": [
    "# K data\n",
    "K = np.array([1.80E-05, 2.62E-05, 3.11E-05, 3.28E-05, 1.56E-04, 1.39E-05, 5.66E-05, 5.25E-05, 1.04E-04, 4.43E-05, 1.60E-04, 2.87E-05, 2.70E-05, \n",
    "              7.70E-05, 2.87E-05, 1.00E-04, 2.70E-05, 2.54E-05, 5.05E-05, 7.60E-05, 2.89E-05, 2.38E-05, 1.97E-05, 3.69E-05, 2.46E-05, 2.30E-05, \n",
    "              3.11E-05, 1.72E-05, 2.87E-05, 2.05E-05, 2.21E-05, 1.97E-05, 3.20E-05, 1.72E-05, 2.38E-05, 1.97E-05, 2.38E-05, 4.40E-05, 1.72E-05, \n",
    "              1.89E-05, 2.21E-05, 1.80E-05, 1.07E-04, 3.20E-05, 3.11E-05, 3.77E-05, 1.50E-05, 3.10E-04, 8.70E-05, 4.30E-05, 7.80E-05, 2.50E-05, 2.50E-05,\n",
    "              5.31E-04, 8.50E-05, 1.20E-04, 4.10E-05, 1.04E-04, 4.67E-05, 1.34E-04, 3.05E-05])\n",
    "S = np.array([8.23E-06, 2.29E-05, 6.09E-06, 6.34E-06])"
   ]
  },
  {
   "cell_type": "code",
   "execution_count": 76,
   "metadata": {},
   "outputs": [
    {
     "data": {
      "text/plain": [
       "1.20096"
      ]
     },
     "execution_count": 76,
     "metadata": {},
     "output_type": "execute_result"
    }
   ],
   "source": [
    "np.min(K) * 60 * 60 * 24\n",
    "#np.max(K) * 60 * 60 * 24"
   ]
  },
  {
   "cell_type": "code",
   "execution_count": 27,
   "metadata": {},
   "outputs": [
    {
     "data": {
      "text/plain": [
       "array(5.643715160553427e-05)"
      ]
     },
     "execution_count": 27,
     "metadata": {},
     "output_type": "execute_result"
    }
   ],
   "source": [
    "s, loc, scale = lognorm.fit(K)\n",
    "mean, var, skew, kurt = lognorm.stats(s, loc, scale, moments='mvsk')\n",
    "mean"
   ]
  },
  {
   "cell_type": "code",
   "execution_count": 77,
   "metadata": {
    "collapsed": false
   },
   "outputs": [
    {
     "data": {
      "text/plain": [
       "(array([ 29.,  13.,   4.,   3.,   2.,   4.,   1.,   1.,   1.,   1.,   0.,\n          0.,   0.,   0.,   0.,   0.,   0.,   0.,   1.,   0.,   0.,   0.,\n          0.,   0.,   0.,   0.,   0.,   0.,   0.,   0.,   0.,   1.]),\n array([  1.39000000e-05,   3.00593750e-05,   4.62187500e-05,\n          6.23781250e-05,   7.85375000e-05,   9.46968750e-05,\n          1.10856250e-04,   1.27015625e-04,   1.43175000e-04,\n          1.59334375e-04,   1.75493750e-04,   1.91653125e-04,\n          2.07812500e-04,   2.23971875e-04,   2.40131250e-04,\n          2.56290625e-04,   2.72450000e-04,   2.88609375e-04,\n          3.04768750e-04,   3.20928125e-04,   3.37087500e-04,\n          3.53246875e-04,   3.69406250e-04,   3.85565625e-04,\n          4.01725000e-04,   4.17884375e-04,   4.34043750e-04,\n          4.50203125e-04,   4.66362500e-04,   4.82521875e-04,\n          4.98681250e-04,   5.14840625e-04,   5.31000000e-04]),\n <a list of 32 Patch objects>)"
      ]
     },
     "execution_count": 77,
     "metadata": {},
     "output_type": "execute_result"
    },
    {
     "data": {
      "image/png": "[encoded data removed]",
      "text/plain": [
       "<matplotlib.figure.Figure at 0x10afc0ef0>"
      ]
     },
     "metadata": {},
     "output_type": "display_data"
    }
   ],
   "source": [
    "plt.hist(K, bins='auto')"
   ]
  },
  {
   "cell_type": "code",
   "execution_count": 59,
   "metadata": {},
   "outputs": [
    {
     "data": {
      "text/plain": [
       "4.8790907017998783e-06"
      ]
     },
     "execution_count": 59,
     "metadata": {},
     "output_type": "execute_result"
    }
   ],
   "source": [
    "lognorm.ppf(0.01, s, loc, scale)"
   ]
  },
  {
   "cell_type": "code",
   "execution_count": 61,
   "metadata": {},
   "outputs": [
    {
     "data": {
      "text/plain": [
       "0.25421298041146589"
      ]
     },
     "execution_count": 61,
     "metadata": {},
     "output_type": "execute_result"
    }
   ],
   "source": [
    "lognorm.ppf(0.95, s, loc, scale)"
   ]
  },
  {
   "cell_type": "code",
   "execution_count": 68,
   "metadata": {},
   "outputs": [
    {
     "data": {
      "text/plain": [
       "-0.00012348089689171447"
      ]
     },
     "execution_count": 68,
     "metadata": {},
     "output_type": "execute_result"
    }
   ],
   "source": [
    "loc, scale = norm.fit(K)\n",
    "mean, var, skew, kurt = norm.stats(loc, scale, moments='mvsk')\n",
    "norm.ppf(0.01, loc, scale)"
   ]
  },
  {
   "cell_type": "code",
   "execution_count": 69,
   "metadata": {},
   "outputs": [
    {
     "data": {
      "text/plain": [
       "0.00023992679853105872"
      ]
     },
     "execution_count": 69,
     "metadata": {},
     "output_type": "execute_result"
    }
   ],
   "source": [
    "norm.ppf(0.99, loc, scale)"
   ]
  },
  {
   "cell_type": "code",
   "execution_count": 79,
   "metadata": {},
   "outputs": [
    {
     "data": {
      "text/plain": [
       "2.2900000000000001e-05"
      ]
     },
     "execution_count": 79,
     "metadata": {},
     "output_type": "execute_result"
    }
   ],
   "source": [
    "np.max(S)"
   ]
  },
  {
   "cell_type": "code",
   "execution_count": 51,
   "metadata": {},
   "outputs": [
    {
     "name": "stderr",
     "output_type": "stream",
     "text": [
      "/usr/local/lib/python3.6/site-packages/scipy/stats/_continuous_distns.py:407: RuntimeWarning: invalid value encountered in sqrt\n  sk = 2*(b-a)*sqrt(a + b + 1) / (a + b + 2) / sqrt(a*b)\n"
     ]
    },
    {
     "data": {
      "text/plain": [
       "array(9.527342236081489e-06)"
      ]
     },
     "execution_count": 51,
     "metadata": {},
     "output_type": "execute_result"
    }
   ],
   "source": [
    "a, b, loc, scale = beta.fit(S)\n",
    "mean, var, skew, kurt = beta.stats(a, b, loc, scale, moments='mvsk')\n",
    "mean"
   ]
  },
  {
   "cell_type": "code",
   "execution_count": 55,
   "metadata": {},
   "outputs": [
    {
     "data": {
      "text/plain": [
       "[<matplotlib.lines.Line2D at 0x10aed6e80>]"
      ]
     },
     "execution_count": 55,
     "metadata": {},
     "output_type": "execute_result"
    },
    {
     "data": {
      "image/png": "[encoded data removed]",
      "text/plain": [
       "<matplotlib.figure.Figure at 0x10aed6eb8>"
      ]
     },
     "metadata": {},
     "output_type": "display_data"
    }
   ],
   "source": [
    "x = np.linspace(beta.ppf(0.01, a, b, loc, scale), beta.ppf(0.99, a, b, loc, scale), 100)\n",
    "fig, ax = plt.subplots(1, 1)\n",
    "ax.plot(x, beta.pdf(x, a, b, loc, scale),'r-', lw=5, alpha=0.6, label='lognorm pdf')"
   ]
  },
  {
   "cell_type": "code",
   "execution_count": 57,
   "metadata": {},
   "outputs": [
    {
     "data": {
      "text/plain": [
       "4.8790663133289288e-06"
      ]
     },
     "execution_count": 57,
     "metadata": {},
     "output_type": "execute_result"
    }
   ],
   "source": [
    "beta.ppf(0.01, a, b, loc, scale)"
   ]
  },
  {
   "cell_type": "code",
   "execution_count": 58,
   "metadata": {},
   "outputs": [
    {
     "data": {
      "text/plain": [
       "2.2900000000000001e-05"
      ]
     },
     "execution_count": 58,
     "metadata": {},
     "output_type": "execute_result"
    }
   ],
   "source": [
    "beta.ppf(0.99, a, b, loc, scale)"
   ]
  },
  {
   "cell_type": "code",
   "execution_count": null,
   "metadata": {},
   "outputs": [],
   "source": [
    ""
   ]
  }
 ],
 "metadata": {
  "kernelspec": {
   "display_name": "Python 2",
   "language": "python",
   "name": "python2"
  },
  "language_info": {
   "codemirror_mode": {
    "name": "ipython",
    "version": 2.0
   },
   "file_extension": ".py",
   "mimetype": "text/x-python",
   "name": "python",
   "nbconvert_exporter": "python",
   "pygments_lexer": "ipython2",
   "version": "2.7.6"
  }
 },
 "nbformat": 4,
 "nbformat_minor": 0
}