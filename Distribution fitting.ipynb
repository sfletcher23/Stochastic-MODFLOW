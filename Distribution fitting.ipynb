{
 "cells": [
  {
   "cell_type": "code",
   "execution_count": 2,
   "metadata": {
    "collapsed": true
   },
   "outputs": [],
   "source": [
    "from scipy.stats import lognorm\n",
    "from scipy.stats import uniform\n",
    "from scipy.stats import beta\n",
    "from scipy.stats import norm\n",
    "import matplotlib.pyplot as plt\n",
    "import numpy as np\n",
    "%matplotlib inline"
   ]
  },
  {
   "cell_type": "code",
   "execution_count": 3,
   "metadata": {},
   "outputs": [
    {
     "data": {
      "text/plain": [
       "array([  1.5552 ,   2.26368,   2.68704,   2.83392,  13.4784 ,   1.20096,\n         4.89024,   4.536  ,   8.9856 ,   3.82752,  13.824  ,   2.47968,\n         2.3328 ,   6.6528 ,   2.47968,   8.64   ,   2.3328 ,   2.19456,\n         4.3632 ,   6.5664 ,   2.49696,   2.05632,   1.70208,   3.18816,\n         2.12544,   1.9872 ,   2.68704,   1.48608,   2.47968,   1.7712 ,\n         1.90944,   1.70208,   2.7648 ,   1.48608,   2.05632,   1.70208,\n         2.05632,   3.8016 ,   1.48608,   1.63296,   1.90944,   1.5552 ,\n         9.2448 ,   2.7648 ,   2.68704,   3.25728,   1.296  ,  26.784  ,\n         7.5168 ,   3.7152 ,   6.7392 ,   2.16   ,   2.16   ,  45.8784 ,\n         7.344  ,  10.368  ,   3.5424 ,   8.9856 ,   4.03488,  11.5776 ,\n         2.6352 ])"
      ]
     },
     "execution_count": 3,
     "metadata": {},
     "output_type": "execute_result"
    }
   ],
   "source": [
    "# K data\n",
    "K = np.array([1.80E-05, 2.62E-05, 3.11E-05, 3.28E-05, 1.56E-04, 1.39E-05, 5.66E-05, 5.25E-05, 1.04E-04, 4.43E-05, 1.60E-04, 2.87E-05, 2.70E-05, \n",
    "              7.70E-05, 2.87E-05, 1.00E-04, 2.70E-05, 2.54E-05, 5.05E-05, 7.60E-05, 2.89E-05, 2.38E-05, 1.97E-05, 3.69E-05, 2.46E-05, 2.30E-05, \n",
    "              3.11E-05, 1.72E-05, 2.87E-05, 2.05E-05, 2.21E-05, 1.97E-05, 3.20E-05, 1.72E-05, 2.38E-05, 1.97E-05, 2.38E-05, 4.40E-05, 1.72E-05, \n",
    "              1.89E-05, 2.21E-05, 1.80E-05, 1.07E-04, 3.20E-05, 3.11E-05, 3.77E-05, 1.50E-05, 3.10E-04, 8.70E-05, 4.30E-05, 7.80E-05, 2.50E-05, 2.50E-05,\n",
    "              5.31E-04, 8.50E-05, 1.20E-04, 4.10E-05, 1.04E-04, 4.67E-05, 1.34E-04, 3.05E-05])\n",
    "S = np.array([8.23E-06, 2.29E-05, 6.09E-06, 6.34E-06])\n",
    "K = K * 86400\n",
    "K"
   ]
  },
  {
   "cell_type": "code",
   "execution_count": 17,
   "metadata": {},
   "outputs": [
    {
     "data": {
      "text/plain": [
       "1.2146031888423683"
      ]
     },
     "execution_count": 17,
     "metadata": {},
     "output_type": "execute_result"
    }
   ],
   "source": [
    "s, loc, scale = lognorm.fit(K)\n",
    "mean, var, skew, kurt = lognorm.stats(s, loc, scale, moments='mvsk')\n",
    "s"
   ]
  },
  {
   "cell_type": "code",
   "execution_count": 5,
   "metadata": {
    "collapsed": false
   },
   "outputs": [
    {
     "data": {
      "text/plain": [
       "(array([ 29.,  13.,   4.,   3.,   2.,   4.,   1.,   1.,   1.,   1.,   0.,\n          0.,   0.,   0.,   0.,   0.,   0.,   0.,   1.,   0.,   0.,   0.,\n          0.,   0.,   0.,   0.,   0.,   0.,   0.,   0.,   0.,   1.]),\n array([  1.20096,   2.59713,   3.9933 ,   5.38947,   6.78564,   8.18181,\n          9.57798,  10.97415,  12.37032,  13.76649,  15.16266,  16.55883,\n         17.955  ,  19.35117,  20.74734,  22.14351,  23.53968,  24.93585,\n         26.33202,  27.72819,  29.12436,  30.52053,  31.9167 ,  33.31287,\n         34.70904,  36.10521,  37.50138,  38.89755,  40.29372,  41.68989,\n         43.08606,  44.48223,  45.8784 ]),\n <a list of 32 Patch objects>)"
      ]
     },
     "execution_count": 5,
     "metadata": {},
     "output_type": "execute_result"
    },
    {
     "data": {
      "image/png": "[encoded data removed]",
      "text/plain": [
       "<matplotlib.figure.Figure at 0x114e99be0>"
      ]
     },
     "metadata": {},
     "output_type": "display_data"
    }
   ],
   "source": [
    "plt.hist(K, bins='auto')"
   ]
  },
  {
   "cell_type": "code",
   "execution_count": 6,
   "metadata": {},
   "outputs": [
    {
     "data": {
      "text/plain": [
       "1.2426770372620586"
      ]
     },
     "execution_count": 6,
     "metadata": {},
     "output_type": "execute_result"
    }
   ],
   "source": [
    "lognorm.ppf(0.01, s, loc, scale)"
   ]
  },
  {
   "cell_type": "code",
   "execution_count": 7,
   "metadata": {},
   "outputs": [
    {
     "data": {
      "text/plain": [
       "14.322349478111358"
      ]
     },
     "execution_count": 7,
     "metadata": {},
     "output_type": "execute_result"
    }
   ],
   "source": [
    "lognorm.ppf(0.95, s, loc, scale)"
   ]
  },
  {
   "cell_type": "code",
   "execution_count": 8,
   "metadata": {},
   "outputs": [
    {
     "data": {
      "text/plain": [
       "1.2146031888423683"
      ]
     },
     "execution_count": 8,
     "metadata": {},
     "output_type": "execute_result"
    }
   ],
   "source": [
    "s"
   ]
  },
  {
   "cell_type": "code",
   "execution_count": 9,
   "metadata": {},
   "outputs": [
    {
     "data": {
      "text/plain": [
       "[<matplotlib.lines.Line2D at 0x114f88c18>]"
      ]
     },
     "execution_count": 9,
     "metadata": {},
     "output_type": "execute_result"
    },
    {
     "data": {
      "image/png": "[encoded data removed]",
      "text/plain": [
       "<matplotlib.figure.Figure at 0x114f88ac8>"
      ]
     },
     "metadata": {},
     "output_type": "display_data"
    }
   ],
   "source": [
    "fig, ax = plt.subplots(1, 1)\n",
    "x = np.linspace(lognorm.ppf(0.01, s), lognorm.ppf(0.99, s), 100)\n",
    "ax.plot(x, lognorm.pdf(x, s), 'r-', lw=5, alpha=0.6, label='lognorm pdf')"
   ]
  },
  {
   "cell_type": "code",
   "execution_count": 10,
   "metadata": {},
   "outputs": [
    {
     "data": {
      "text/plain": [
       "-10.668749491444126"
      ]
     },
     "execution_count": 10,
     "metadata": {},
     "output_type": "execute_result"
    }
   ],
   "source": [
    "loc, scale = norm.fit(K)\n",
    "mean, var, skew, kurt = norm.stats(loc, scale, moments='mvsk')\n",
    "norm.ppf(0.01, loc, scale)"
   ]
  },
  {
   "cell_type": "code",
   "execution_count": 11,
   "metadata": {},
   "outputs": [
    {
     "data": {
      "text/plain": [
       "20.729675393083468"
      ]
     },
     "execution_count": 11,
     "metadata": {},
     "output_type": "execute_result"
    }
   ],
   "source": [
    "norm.ppf(0.99, loc, scale)"
   ]
  },
  {
   "cell_type": "code",
   "execution_count": 12,
   "metadata": {},
   "outputs": [
    {
     "data": {
      "text/plain": [
       "2.2900000000000001e-05"
      ]
     },
     "execution_count": 12,
     "metadata": {},
     "output_type": "execute_result"
    }
   ],
   "source": [
    "np.max(S)"
   ]
  },
  {
   "cell_type": "code",
   "execution_count": 13,
   "metadata": {},
   "outputs": [
    {
     "name": "stderr",
     "output_type": "stream",
     "text": [
      "/usr/local/lib/python3.6/site-packages/scipy/stats/_continuous_distns.py:407: RuntimeWarning: invalid value encountered in sqrt\n  sk = 2*(b-a)*sqrt(a + b + 1) / (a + b + 2) / sqrt(a*b)\n"
     ]
    },
    {
     "data": {
      "text/plain": [
       "array(9.527342236081489e-06)"
      ]
     },
     "execution_count": 13,
     "metadata": {},
     "output_type": "execute_result"
    }
   ],
   "source": [
    "a, b, loc, scale = beta.fit(S)\n",
    "mean, var, skew, kurt = beta.stats(a, b, loc, scale, moments='mvsk')\n",
    "mean"
   ]
  },
  {
   "cell_type": "code",
   "execution_count": 14,
   "metadata": {},
   "outputs": [
    {
     "data": {
      "text/plain": [
       "[<matplotlib.lines.Line2D at 0x11504c1d0>]"
      ]
     },
     "execution_count": 14,
     "metadata": {},
     "output_type": "execute_result"
    },
    {
     "data": {
      "image/png": "[encoded data removed]",
      "text/plain": [
       "<matplotlib.figure.Figure at 0x115051358>"
      ]
     },
     "metadata": {},
     "output_type": "display_data"
    }
   ],
   "source": [
    "x = np.linspace(beta.ppf(0.01, a, b, loc, scale), beta.ppf(0.99, a, b, loc, scale), 100)\n",
    "fig, ax = plt.subplots(1, 1)\n",
    "ax.plot(x, beta.pdf(x, a, b, loc, scale),'r-', lw=5, alpha=0.6, label='lognorm pdf')"
   ]
  },
  {
   "cell_type": "code",
   "execution_count": 15,
   "metadata": {},
   "outputs": [
    {
     "data": {
      "text/plain": [
       "4.8790663133289288e-06"
      ]
     },
     "execution_count": 15,
     "metadata": {},
     "output_type": "execute_result"
    }
   ],
   "source": [
    "beta.ppf(0.01, a, b, loc, scale)"
   ]
  },
  {
   "cell_type": "code",
   "execution_count": 16,
   "metadata": {},
   "outputs": [
    {
     "data": {
      "text/plain": [
       "2.2900000000000001e-05"
      ]
     },
     "execution_count": 16,
     "metadata": {},
     "output_type": "execute_result"
    }
   ],
   "source": [
    "beta.ppf(0.99, a, b, loc, scale)"
   ]
  },
  {
   "cell_type": "code",
   "execution_count": 17,
   "metadata": {},
   "outputs": [],
   "source": [
    ""
   ]
  },
  {
   "cell_type": "code",
   "execution_count": null,
   "metadata": {},
   "outputs": [],
   "source": [
    ""
   ]
  }
 ],
 "metadata": {
  "kernelspec": {
   "display_name": "Python 2",
   "language": "python",
   "name": "python2"
  },
  "language_info": {
   "codemirror_mode": {
    "name": "ipython",
    "version": 2.0
   },
   "file_extension": ".py",
   "mimetype": "text/x-python",
   "name": "python",
   "nbconvert_exporter": "python",
   "pygments_lexer": "ipython2",
   "version": "2.7.6"
  }
 },
 "nbformat": 4,
 "nbformat_minor": 0
}