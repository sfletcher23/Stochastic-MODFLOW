{
 "cells": [
  {
   "cell_type": "code",
   "execution_count": 2,
   "metadata": {
    "collapsed": true
   },
   "outputs": [],
   "source": [
    "#Import packages\n",
    "import numpy as np\n",
    "import scipy as sp\n",
    "import matplotlib as ml\n",
    "import os\n",
    "import sys\n",
    "flopypth = os.path.join('..', '..', 'flopy')\n",
    "if flopypth not in sys.path:\n",
    "    sys.path.append(flopypth)\n",
    "import flopy\n",
    "import flopy.utils.binaryfile as bf\n",
    "import subprocess\n",
    "import matplotlib.pyplot as plt\n",
    "import shutil\n",
    "from scipy.stats import uniform"
   ]
  },
  {
   "cell_type": "code",
   "execution_count": 114,
   "metadata": {},
   "outputs": [],
   "source": [
    "hk_min = 1e-2\n",
    "hk_max = 10\n",
    "vka_min = 1e-3\n",
    "vka_max = 1\n",
    "numWells = 2\n",
    "pump_min = -50000.\n",
    "pump_max = -3000.\n",
    "sampleSize = 10\n",
    "n = 2"
   ]
  },
  {
   "cell_type": "code",
   "execution_count": 13,
   "metadata": {},
   "outputs": [
    {
     "data": {
      "text/plain": [
       "array([ 0.001,  0.112,  0.223,  0.334,  0.445,  0.556,  0.667,  0.778,\n        0.889,  1.   ])"
      ]
     },
     "execution_count": 13,
     "metadata": {},
     "output_type": "execute_result"
    }
   ],
   "source": [
    "# Generate arrays of hk and vka\n",
    "hk = np.linspace(hk_min, hk_max, num=sampleSize)\n",
    "vka = np.linspace(vka_min,vka_max,num=sampleSize)\n",
    "hk\n",
    "vka"
   ]
  },
  {
   "cell_type": "code",
   "execution_count": 8,
   "metadata": {},
   "outputs": [
    {
     "data": {
      "text/plain": [
       "[0, 1]"
      ]
     },
     "execution_count": 8,
     "metadata": {},
     "output_type": "execute_result"
    }
   ],
   "source": [
    "list(range(numWells))"
   ]
  },
  {
   "cell_type": "code",
   "execution_count": 18,
   "metadata": {},
   "outputs": [
    {
     "data": {
      "text/plain": [
       "['hk', 'vka', 'pump_rate_1', 'pump_rate_2']"
      ]
     },
     "execution_count": 18,
     "metadata": {},
     "output_type": "execute_result"
    }
   ],
   "source": [
    "params_in_sample = ['hk', 'vka']\n",
    "for n in range(numWells):\n",
    "    params_in_sample.append('pump_rate_' + str(n+1))\n",
    "params_in_sample"
   ]
  },
  {
   "cell_type": "code",
   "execution_count": 69,
   "metadata": {},
   "outputs": [
    {
     "data": {
      "text/plain": [
       "[array([[  3000.        ,   8222.22222222,  13444.44444444,  18666.66666667,\n          23888.88888889,  29111.11111111,  34333.33333333,  39555.55555556,\n          44777.77777778,  50000.        ]]),\n array([[  3000.        ,   8222.22222222,  13444.44444444,  18666.66666667,\n          23888.88888889,  29111.11111111,  34333.33333333,  39555.55555556,\n          44777.77777778,  50000.        ]])]"
      ]
     },
     "execution_count": 69,
     "metadata": {},
     "output_type": "execute_result"
    }
   ],
   "source": [
    "pump = np.zeros([numWells, sampleSize])\n",
    "for n in range(numWells):\n",
    "    pump[n,:] = np.linspace(pump_min, pump_max, num=sampleSize)\n",
    "        \n",
    "pumpSplit"
   ]
  },
  {
   "cell_type": "code",
   "execution_count": 71,
   "metadata": {},
   "outputs": [
    {
     "data": {
      "text/plain": [
       "array([[  1.00000000e-02,   1.12000000e+00,   2.23000000e+00,\n          3.34000000e+00,   4.45000000e+00,   5.56000000e+00,\n          6.67000000e+00,   7.78000000e+00,   8.89000000e+00,\n          1.00000000e+01],\n       [  1.00000000e-03,   1.12000000e-01,   2.23000000e-01,\n          3.34000000e-01,   4.45000000e-01,   5.56000000e-01,\n          6.67000000e-01,   7.78000000e-01,   8.89000000e-01,\n          1.00000000e+00],\n       [  3.00000000e+03,   8.22222222e+03,   1.34444444e+04,\n          1.86666667e+04,   2.38888889e+04,   2.91111111e+04,\n          3.43333333e+04,   3.95555556e+04,   4.47777778e+04,\n          5.00000000e+04],\n       [  3.00000000e+03,   8.22222222e+03,   1.34444444e+04,\n          1.86666667e+04,   2.38888889e+04,   2.91111111e+04,\n          3.43333333e+04,   3.95555556e+04,   4.47777778e+04,\n          5.00000000e+04]])"
      ]
     },
     "execution_count": 71,
     "metadata": {},
     "output_type": "execute_result"
    }
   ],
   "source": [
    "pumpSplit = np.split(pump,numWells)\n",
    "param_sample = np.stack([hk, vka])\n",
    "for i in range(numWells):\n",
    "    param_sample = np.append(param_sample,pumpSplit[i], axis=0)\n",
    "param_sample"
   ]
  },
  {
   "cell_type": "code",
   "execution_count": 73,
   "metadata": {},
   "outputs": [
    {
     "data": {
      "text/plain": [
       "array([[  1.00000000e-02,   1.12000000e+00,   2.23000000e+00,\n          3.34000000e+00,   4.45000000e+00,   5.56000000e+00,\n          6.67000000e+00,   7.78000000e+00,   8.89000000e+00,\n          1.00000000e+01],\n       [  1.00000000e-03,   1.12000000e-01,   2.23000000e-01,\n          3.34000000e-01,   4.45000000e-01,   5.56000000e-01,\n          6.67000000e-01,   7.78000000e-01,   8.89000000e-01,\n          1.00000000e+00],\n       [  3.00000000e+03,   8.22222222e+03,   1.34444444e+04,\n          1.86666667e+04,   2.38888889e+04,   2.91111111e+04,\n          3.43333333e+04,   3.95555556e+04,   4.47777778e+04,\n          5.00000000e+04],\n       [  3.00000000e+03,   8.22222222e+03,   1.34444444e+04,\n          1.86666667e+04,   2.38888889e+04,   2.91111111e+04,\n          3.43333333e+04,   3.95555556e+04,   4.47777778e+04,\n          5.00000000e+04]])"
      ]
     },
     "execution_count": 73,
     "metadata": {},
     "output_type": "execute_result"
    }
   ],
   "source": [
    "# Generate list of all paramters\n",
    "params_in_sample = ['hk', 'vka']\n",
    "for n in range(numWells):\n",
    "    params_in_sample.append('pump_rate_' + str(n+1))\n",
    "\n",
    "# Generate arrays of hk and vka\n",
    "hk = np.linspace(hk_min, hk_max, num=sampleSize)\n",
    "vka = np.linspace(vka_min,vka_max,num=sampleSize)\n",
    "\n",
    "# Generate arrays of pumping rate\n",
    "pump = np.zeros([numWells, sampleSize])\n",
    "for n in range(numWells):\n",
    "    pump[n,:] = np.linspace(pump_min, pump_max, num=sampleSize)\n",
    "    \n",
    "# Combine to form paramSample\n",
    "pumpSplit = np.split(pump,numWells)\n",
    "param_sample = np.stack([hk, vka])\n",
    "for i in range(numWells):\n",
    "    param_sample = np.append(param_sample,pumpSplit[i], axis=0)\n",
    "    \n",
    "param_sample"
   ]
  },
  {
   "cell_type": "code",
   "execution_count": 140,
   "metadata": {},
   "outputs": [
    {
     "data": {
      "text/plain": [
       "array([ 9.86352585,  3.0567227 ,  5.1064603 ,  2.47422919,  9.82114895,\n        3.85264791,  1.67685073,  5.15602897,  1.45015831,  7.03355182])"
      ]
     },
     "execution_count": 140,
     "metadata": {},
     "output_type": "execute_result"
    }
   ],
   "source": [
    "from scipy.stats import uniform\n",
    "scale = hk_max - hk_min\n",
    "hk_sample = uniform.rvs(loc=hk_min, scale=scale, size=sampleSize)\n",
    "hk_sample"
   ]
  },
  {
   "cell_type": "code",
   "execution_count": 143,
   "metadata": {},
   "outputs": [],
   "source": [
    "# Write function to generate range of inputs for hk, vka, pumping rate in each well\n",
    "def genParamSamples(hk_min, hk_max, vka_min, vka_max, numWells, pump_min, pump_max, sampleSize):\n",
    "    \n",
    "    # Generate list of all paramters\n",
    "    params_in_sample = ['hk', 'vka']\n",
    "    for n in range(numWells):\n",
    "        params_in_sample.append('pump_rate_' + str(n+1))\n",
    "    \n",
    "    # Generate arrays of hk and vka\n",
    "    scale = hk_max - hk_min\n",
    "    hk = uniform.rvs(loc=hk_min, scale=scale, size=sampleSize)\n",
    "    scale = vka_max - vka_min\n",
    "    vka = uniform.rvs(loc=hk_min, scale=scale, size=sampleSize)\n",
    "    \n",
    "    # Generate arrays of pumping rate\n",
    "    pump = np.zeros([numWells, sampleSize])\n",
    "    scale = pump_max - pump_min\n",
    "    for n in range(numWells):\n",
    "        pump[n, :] = uniform.rvs(pump_min, scale, size=sampleSize)\n",
    "        \n",
    "    # Combine to form paramSample\n",
    "    pumpSplit = np.split(pump, numWells)\n",
    "    param_sample = np.stack([hk, vka])\n",
    "    for i in range(numWells):\n",
    "        param_sample = np.append(param_sample, pumpSplit[i], axis=0)\n",
    "\n",
    "    # Create dictionary with samples for each parameter\n",
    "    params = dict(zip(params_in_sample, param_sample))\n",
    "\n",
    "    return params"
   ]
  },
  {
   "cell_type": "code",
   "execution_count": 144,
   "metadata": {},
   "outputs": [
    {
     "data": {
      "text/plain": [
       "{'hk': array([ 5.94855782,  5.71326747,  4.96540587,  4.99734681,  4.64978617,\n         2.18217676,  5.74420255,  9.38571848,  1.25227806,  2.38145131]),\n 'pump_rate_1': array([-32445.99701245, -14055.27691044, -28244.41076453, -10287.33729392,\n        -30168.16719514, -27383.9781936 , -42064.94235876, -45265.03809563,\n        -45442.05759994, -40977.46870541]),\n 'pump_rate_2': array([ -3967.54773596, -25106.08057599, -44098.08115066,  -9046.10230226,\n        -17888.46277586, -44776.90212225, -18730.32192548, -20231.62520884,\n         -8098.59770566,  -3015.78723074]),\n 'vka': array([ 0.71915011,  0.17298838,  0.03453191,  0.45306955,  0.11733434,\n         0.22357878,  0.13651623,  0.33002774,  0.7550111 ,  0.47872082])}"
      ]
     },
     "execution_count": 144,
     "metadata": {},
     "output_type": "execute_result"
    }
   ],
   "source": [
    "params = genParamSamples(hk_min, hk_max, vka_min, vka_max, numWells, pump_min, pump_max, sampleSize)\n",
    "params"
   ]
  },
  {
   "cell_type": "code",
   "execution_count": 89,
   "metadata": {},
   "outputs": [
    {
     "name": "stdout",
     "output_type": "stream",
     "text": [
      "0\n1\n2\n3\n4\n5\n6\n7\n8\n9\n"
     ]
    }
   ],
   "source": [
    "for i in range(sampleSize):\n",
    "    print(i)"
   ]
  },
  {
   "cell_type": "code",
   "execution_count": 91,
   "metadata": {},
   "outputs": [
    {
     "data": {
      "text/plain": [
       "dict_keys(['hk', 'vka', 'pump_rate_1', 'pump_rate_2'])"
      ]
     },
     "execution_count": 91,
     "metadata": {},
     "output_type": "execute_result"
    }
   ],
   "source": [
    "params.keys()"
   ]
  },
  {
   "cell_type": "code",
   "execution_count": 113,
   "metadata": {},
   "outputs": [
    {
     "data": {
      "text/plain": [
       "50000.0"
      ]
     },
     "execution_count": 113,
     "metadata": {},
     "output_type": "execute_result"
    }
   ],
   "source": [
    "pumping_rate1 = params['pump_rate_1'][9]\n",
    "pumping_rate1"
   ]
  },
  {
   "cell_type": "code",
   "execution_count": 109,
   "metadata": {},
   "outputs": [
    {
     "data": {
      "text/plain": [
       "[array([  0.01,   1.12,   2.23,   3.34,   4.45,   5.56,   6.67,   7.78,\n          8.89,  10.  ]),\n array([ 0.001,  0.112,  0.223,  0.334,  0.445,  0.556,  0.667,  0.778,\n         0.889,  1.   ]),\n array([  3000.        ,   8222.22222222,  13444.44444444,  18666.66666667,\n         23888.88888889,  29111.11111111,  34333.33333333,  39555.55555556,\n         44777.77777778,  50000.        ]),\n array([  3000.        ,   8222.22222222,  13444.44444444,  18666.66666667,\n         23888.88888889,  29111.11111111,  34333.33333333,  39555.55555556,\n         44777.77777778,  50000.        ])]"
      ]
     },
     "execution_count": 109,
     "metadata": {},
     "output_type": "execute_result"
    }
   ],
   "source": [
    "list(params.values())[:]"
   ]
  },
  {
   "cell_type": "code",
   "execution_count": 122,
   "metadata": {},
   "outputs": [
    {
     "data": {
      "text/plain": [
       "'model9'"
      ]
     },
     "execution_count": 122,
     "metadata": {},
     "output_type": "execute_result"
    }
   ],
   "source": [
    "# Define output parameters for each run\n",
    "model_name = []\n",
    "i = 0\n",
    "for i in range(sampleSize):\n",
    "    model_name.append('model' + str(i))\n",
    "model_name[i]"
   ]
  },
  {
   "cell_type": "code",
   "execution_count": 127,
   "metadata": {},
   "outputs": [
    {
     "ename": "FileNotFoundError",
     "evalue": "[Errno 2] No such file or directory: 'model0.hds'",
     "traceback": [
      "\u001b[0;31m---------------------------------------------------------------------------\u001b[0m",
      "\u001b[0;31mFileNotFoundError\u001b[0m                         Traceback (most recent call last)",
      "\u001b[0;32m<ipython-input-127-e62a2761fe8c>\u001b[0m in \u001b[0;36m<module>\u001b[0;34m()\u001b[0m\n\u001b[1;32m      1\u001b[0m \u001b[0mi\u001b[0m\u001b[0;34m=\u001b[0m\u001b[0;36m0\u001b[0m\u001b[0;34m\u001b[0m\u001b[0m\n\u001b[0;32m----> 2\u001b[0;31m \u001b[0mheadobj\u001b[0m \u001b[0;34m=\u001b[0m \u001b[0mbf\u001b[0m\u001b[0;34m.\u001b[0m\u001b[0mHeadFile\u001b[0m\u001b[0;34m(\u001b[0m\u001b[0mmodel_name\u001b[0m\u001b[0;34m[\u001b[0m\u001b[0mi\u001b[0m\u001b[0;34m]\u001b[0m\u001b[0;34m+\u001b[0m\u001b[0;34m'.hds'\u001b[0m\u001b[0;34m)\u001b[0m\u001b[0;34m\u001b[0m\u001b[0m\n\u001b[0m",
      "\u001b[0;32m/usr/local/lib/python3.6/site-packages/flopy/utils/binaryfile.py\u001b[0m in \u001b[0;36m__init__\u001b[0;34m(self, filename, text, precision, verbose, **kwargs)\u001b[0m\n\u001b[1;32m    407\u001b[0m         \u001b[0mself\u001b[0m\u001b[0;34m.\u001b[0m\u001b[0mtext\u001b[0m \u001b[0;34m=\u001b[0m \u001b[0mtext\u001b[0m\u001b[0;34m.\u001b[0m\u001b[0mencode\u001b[0m\u001b[0;34m(\u001b[0m\u001b[0;34m)\u001b[0m\u001b[0;34m\u001b[0m\u001b[0m\n\u001b[1;32m    408\u001b[0m         \u001b[0;32mif\u001b[0m \u001b[0mprecision\u001b[0m \u001b[0;34m==\u001b[0m \u001b[0;34m'auto'\u001b[0m\u001b[0;34m:\u001b[0m\u001b[0;34m\u001b[0m\u001b[0m\n\u001b[0;32m--> 409\u001b[0;31m             \u001b[0mprecision\u001b[0m \u001b[0;34m=\u001b[0m \u001b[0mget_headfile_precision\u001b[0m\u001b[0;34m(\u001b[0m\u001b[0mfilename\u001b[0m\u001b[0;34m)\u001b[0m\u001b[0;34m\u001b[0m\u001b[0m\n\u001b[0m\u001b[1;32m    410\u001b[0m             \u001b[0;32mif\u001b[0m \u001b[0mprecision\u001b[0m \u001b[0;34m==\u001b[0m \u001b[0;34m'unknown'\u001b[0m\u001b[0;34m:\u001b[0m\u001b[0;34m\u001b[0m\u001b[0m\n\u001b[1;32m    411\u001b[0m                 s = 'Error. Precision could not be determined for {}'.format(\n",
      "\u001b[0;32m/usr/local/lib/python3.6/site-packages/flopy/utils/binaryfile.py\u001b[0m in \u001b[0;36mget_headfile_precision\u001b[0;34m(filename)\u001b[0m\n\u001b[1;32m    188\u001b[0m \u001b[0;34m\u001b[0m\u001b[0m\n\u001b[1;32m    189\u001b[0m     \u001b[0;31m# first try single\u001b[0m\u001b[0;34m\u001b[0m\u001b[0;34m\u001b[0m\u001b[0m\n\u001b[0;32m--> 190\u001b[0;31m     \u001b[0mf\u001b[0m \u001b[0;34m=\u001b[0m \u001b[0mopen\u001b[0m\u001b[0;34m(\u001b[0m\u001b[0mfilename\u001b[0m\u001b[0;34m,\u001b[0m \u001b[0;34m'rb'\u001b[0m\u001b[0;34m)\u001b[0m\u001b[0;34m\u001b[0m\u001b[0m\n\u001b[0m\u001b[1;32m    191\u001b[0m     vartype = [('kstp', '<i4'), ('kper', '<i4'), ('pertim', '<f4'),\n\u001b[1;32m    192\u001b[0m                ('totim', '<f4'), ('text', 'S16')]\n",
      "\u001b[0;31mFileNotFoundError\u001b[0m: [Errno 2] No such file or directory: 'model0.hds'"
     ],
     "output_type": "error"
    }
   ],
   "source": [
    "i=0\n",
    "headobj = bf.HeadFile(model_name[i]+'.hds')"
   ]
  },
  {
   "cell_type": "code",
   "execution_count": 137,
   "metadata": {},
   "outputs": [
    {
     "ename": "SyntaxError",
     "evalue": "invalid syntax (<ipython-input-137-923bfb4814c9>, line 1)",
     "traceback": [
      "\u001b[0;36m  File \u001b[0;32m\"<ipython-input-137-923bfb4814c9>\"\u001b[0;36m, line \u001b[0;32m1\u001b[0m\n\u001b[0;31m    t = [ 146.    0.]\u001b[0m\n\u001b[0m                   ^\u001b[0m\n\u001b[0;31mSyntaxError\u001b[0m\u001b[0;31m:\u001b[0m invalid syntax\n"
     ],
     "output_type": "error"
    }
   ],
   "source": [
    "t = [ 146.    0.]\n",
    "print(t)"
   ]
  },
  {
   "cell_type": "code",
   "execution_count": 150,
   "metadata": {},
   "outputs": [
    {
     "data": {
      "text/plain": [
       "'/Users/sarahfletcher/Desktop/Code/MODFLOW/Stochastic_MODFLOW_repo'"
      ]
     },
     "execution_count": 150,
     "metadata": {},
     "output_type": "execute_result"
    }
   ],
   "source": [
    "model_name = 'model' + str(9)\n",
    "os.chdir('Stochastic_MODFLOW_repo')\n",
    "os.getcwd()\n",
    "os.f"
   ]
  },
  {
   "cell_type": "code",
   "execution_count": 154,
   "metadata": {},
   "outputs": [],
   "source": [
    "os.remove(model_name + '.wel')"
   ]
  },
  {
   "cell_type": "code",
   "execution_count": null,
   "metadata": {},
   "outputs": [],
   "source": [
    ""
   ]
  }
 ],
 "metadata": {
  "kernelspec": {
   "display_name": "Python 2",
   "language": "python",
   "name": "python2"
  },
  "language_info": {
   "codemirror_mode": {
    "name": "ipython",
    "version": 2.0
   },
   "file_extension": ".py",
   "mimetype": "text/x-python",
   "name": "python",
   "nbconvert_exporter": "python",
   "pygments_lexer": "ipython2",
   "version": "2.7.6"
  }
 },
 "nbformat": 4,
 "nbformat_minor": 0
}