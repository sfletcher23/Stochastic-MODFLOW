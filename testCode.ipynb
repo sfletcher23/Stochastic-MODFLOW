{
 "cells": [
  {
   "cell_type": "code",
   "execution_count": 2,
   "metadata": {
    "collapsed": true
   },
   "outputs": [],
   "source": [
    "#Import packages\n",
    "import numpy as np\n",
    "import scipy as sp\n",
    "import matplotlib as ml\n",
    "import os\n",
    "import sys\n",
    "flopypth = os.path.join('..', '..', 'flopy')\n",
    "if flopypth not in sys.path:\n",
    "    sys.path.append(flopypth)\n",
    "import flopy\n",
    "import flopy.utils.binaryfile as bf\n",
    "import subprocess\n",
    "import matplotlib.pyplot as plt\n",
    "import shutil\n",
    "from scipy.stats import uniform"
   ]
  },
  {
   "cell_type": "code",
   "execution_count": 10,
   "metadata": {},
   "outputs": [],
   "source": [
    "hk_min = 1e-2\n",
    "hk_max = 10\n",
    "vka_min = 1e-3\n",
    "vka_max = 1\n",
    "numWells = 2\n",
    "pump_min = 3000\n",
    "pump_max = 50000\n",
    "sampleSize = 10\n",
    "n = 2"
   ]
  },
  {
   "cell_type": "code",
   "execution_count": 13,
   "metadata": {},
   "outputs": [
    {
     "data": {
      "text/plain": [
       "array([ 0.001,  0.112,  0.223,  0.334,  0.445,  0.556,  0.667,  0.778,\n        0.889,  1.   ])"
      ]
     },
     "execution_count": 13,
     "metadata": {},
     "output_type": "execute_result"
    }
   ],
   "source": [
    "# Generate arrays of hk and vka\n",
    "hk = np.linspace(hk_min, hk_max, num=sampleSize)\n",
    "vka = np.linspace(vka_min,vka_max,num=sampleSize)\n",
    "hk\n",
    "vka"
   ]
  },
  {
   "cell_type": "code",
   "execution_count": 8,
   "metadata": {},
   "outputs": [
    {
     "data": {
      "text/plain": [
       "[0, 1]"
      ]
     },
     "execution_count": 8,
     "metadata": {},
     "output_type": "execute_result"
    }
   ],
   "source": [
    "list(range(numWells))"
   ]
  },
  {
   "cell_type": "code",
   "execution_count": 18,
   "metadata": {},
   "outputs": [
    {
     "data": {
      "text/plain": [
       "['hk', 'vka', 'pump_rate_1', 'pump_rate_2']"
      ]
     },
     "execution_count": 18,
     "metadata": {},
     "output_type": "execute_result"
    }
   ],
   "source": [
    "params_in_sample = ['hk', 'vka']\n",
    "for n in range(numWells):\n",
    "    params_in_sample.append('pump_rate_' + str(n+1))\n",
    "params_in_sample"
   ]
  },
  {
   "cell_type": "code",
   "execution_count": 69,
   "metadata": {},
   "outputs": [
    {
     "data": {
      "text/plain": [
       "[array([[  3000.        ,   8222.22222222,  13444.44444444,  18666.66666667,\n          23888.88888889,  29111.11111111,  34333.33333333,  39555.55555556,\n          44777.77777778,  50000.        ]]),\n array([[  3000.        ,   8222.22222222,  13444.44444444,  18666.66666667,\n          23888.88888889,  29111.11111111,  34333.33333333,  39555.55555556,\n          44777.77777778,  50000.        ]])]"
      ]
     },
     "execution_count": 69,
     "metadata": {},
     "output_type": "execute_result"
    }
   ],
   "source": [
    "pump = np.zeros([numWells, sampleSize])\n",
    "for n in range(numWells):\n",
    "    pump[n,:] = np.linspace(pump_min, pump_max, num=sampleSize)\n",
    "        \n",
    "pumpSplit"
   ]
  },
  {
   "cell_type": "code",
   "execution_count": 71,
   "metadata": {},
   "outputs": [
    {
     "data": {
      "text/plain": [
       "array([[  1.00000000e-02,   1.12000000e+00,   2.23000000e+00,\n          3.34000000e+00,   4.45000000e+00,   5.56000000e+00,\n          6.67000000e+00,   7.78000000e+00,   8.89000000e+00,\n          1.00000000e+01],\n       [  1.00000000e-03,   1.12000000e-01,   2.23000000e-01,\n          3.34000000e-01,   4.45000000e-01,   5.56000000e-01,\n          6.67000000e-01,   7.78000000e-01,   8.89000000e-01,\n          1.00000000e+00],\n       [  3.00000000e+03,   8.22222222e+03,   1.34444444e+04,\n          1.86666667e+04,   2.38888889e+04,   2.91111111e+04,\n          3.43333333e+04,   3.95555556e+04,   4.47777778e+04,\n          5.00000000e+04],\n       [  3.00000000e+03,   8.22222222e+03,   1.34444444e+04,\n          1.86666667e+04,   2.38888889e+04,   2.91111111e+04,\n          3.43333333e+04,   3.95555556e+04,   4.47777778e+04,\n          5.00000000e+04]])"
      ]
     },
     "execution_count": 71,
     "metadata": {},
     "output_type": "execute_result"
    }
   ],
   "source": [
    "pumpSplit = np.split(pump,numWells)\n",
    "param_sample = np.stack([hk, vka])\n",
    "for i in range(numWells):\n",
    "    param_sample = np.append(param_sample,pumpSplit[i], axis=0)\n",
    "param_sample"
   ]
  },
  {
   "cell_type": "code",
   "execution_count": 73,
   "metadata": {},
   "outputs": [
    {
     "data": {
      "text/plain": [
       "array([[  1.00000000e-02,   1.12000000e+00,   2.23000000e+00,\n          3.34000000e+00,   4.45000000e+00,   5.56000000e+00,\n          6.67000000e+00,   7.78000000e+00,   8.89000000e+00,\n          1.00000000e+01],\n       [  1.00000000e-03,   1.12000000e-01,   2.23000000e-01,\n          3.34000000e-01,   4.45000000e-01,   5.56000000e-01,\n          6.67000000e-01,   7.78000000e-01,   8.89000000e-01,\n          1.00000000e+00],\n       [  3.00000000e+03,   8.22222222e+03,   1.34444444e+04,\n          1.86666667e+04,   2.38888889e+04,   2.91111111e+04,\n          3.43333333e+04,   3.95555556e+04,   4.47777778e+04,\n          5.00000000e+04],\n       [  3.00000000e+03,   8.22222222e+03,   1.34444444e+04,\n          1.86666667e+04,   2.38888889e+04,   2.91111111e+04,\n          3.43333333e+04,   3.95555556e+04,   4.47777778e+04,\n          5.00000000e+04]])"
      ]
     },
     "execution_count": 73,
     "metadata": {},
     "output_type": "execute_result"
    }
   ],
   "source": [
    "# Generate list of all paramters\n",
    "params_in_sample = ['hk', 'vka']\n",
    "for n in range(numWells):\n",
    "    params_in_sample.append('pump_rate_' + str(n+1))\n",
    "\n",
    "# Generate arrays of hk and vka\n",
    "hk = np.linspace(hk_min, hk_max, num=sampleSize)\n",
    "vka = np.linspace(vka_min,vka_max,num=sampleSize)\n",
    "\n",
    "# Generate arrays of pumping rate\n",
    "pump = np.zeros([numWells, sampleSize])\n",
    "for n in range(numWells):\n",
    "    pump[n,:] = np.linspace(pump_min, pump_max, num=sampleSize)\n",
    "    \n",
    "# Combine to form paramSample\n",
    "pumpSplit = np.split(pump,numWells)\n",
    "param_sample = np.stack([hk, vka])\n",
    "for i in range(numWells):\n",
    "    param_sample = np.append(param_sample,pumpSplit[i], axis=0)\n",
    "    \n",
    "param_sample"
   ]
  },
  {
   "cell_type": "code",
   "execution_count": 84,
   "metadata": {},
   "outputs": [],
   "source": [
    "# Write function to generate range of inputs for hk, vka, pumping rate in each well\n",
    "def genParamSamples(hk_min, hk_max, vka_min, vka_max, numWells, pump_min, pump_max, sampleSize):\n",
    "    \n",
    "    # Generate list of all paramters\n",
    "    params_in_sample = ['hk', 'vka']\n",
    "    for n in range(numWells):\n",
    "        params_in_sample.append('pump_rate_' + str(n+1))\n",
    "    \n",
    "    # Generate arrays of hk and vka\n",
    "    hk = np.linspace(hk_min, hk_max, num=sampleSize)\n",
    "    vka = np.linspace(vka_min,vka_max,num=sampleSize)\n",
    "    \n",
    "    # Generate arrays of pumping rate\n",
    "    pump = np.zeros([numWells, sampleSize])\n",
    "    for n in range(numWells):\n",
    "        pump[n,:] = np.linspace(pump_min, pump_max, num=sampleSize)\n",
    "        \n",
    "    # Combine to form paramSample\n",
    "    pumpSplit = np.split(pump,numWells)\n",
    "    param_sample = np.stack([hk, vka])\n",
    "    for i in range(numWells):\n",
    "        param_sample = np.append(param_sample,pumpSplit[i], axis=0)\n",
    "\n",
    "    # Create dictionary with samples for each paramter\n",
    "    params = dict(zip(params_in_sample, param_sample))\n",
    "\n",
    "    return params"
   ]
  },
  {
   "cell_type": "code",
   "execution_count": 85,
   "metadata": {},
   "outputs": [
    {
     "data": {
      "text/plain": [
       "{'hk': array([  0.01,   1.12,   2.23,   3.34,   4.45,   5.56,   6.67,   7.78,\n          8.89,  10.  ]),\n 'pump_rate_1': array([  3000.        ,   8222.22222222,  13444.44444444,  18666.66666667,\n         23888.88888889,  29111.11111111,  34333.33333333,  39555.55555556,\n         44777.77777778,  50000.        ]),\n 'pump_rate_2': array([  3000.        ,   8222.22222222,  13444.44444444,  18666.66666667,\n         23888.88888889,  29111.11111111,  34333.33333333,  39555.55555556,\n         44777.77777778,  50000.        ]),\n 'vka': array([ 0.001,  0.112,  0.223,  0.334,  0.445,  0.556,  0.667,  0.778,\n         0.889,  1.   ])}"
      ]
     },
     "execution_count": 85,
     "metadata": {},
     "output_type": "execute_result"
    }
   ],
   "source": [
    "params = genParamSamples(hk_min, hk_max, vka_min, vka_max, numWells, pump_min, pump_max, sampleSize)\n",
    "params"
   ]
  },
  {
   "cell_type": "code",
   "execution_count": 89,
   "metadata": {},
   "outputs": [
    {
     "name": "stdout",
     "output_type": "stream",
     "text": [
      "0\n1\n2\n3\n4\n5\n6\n7\n8\n9\n"
     ]
    }
   ],
   "source": [
    "for i in range(sampleSize):\n",
    "    print(i)"
   ]
  },
  {
   "cell_type": "code",
   "execution_count": 91,
   "metadata": {},
   "outputs": [
    {
     "data": {
      "text/plain": [
       "dict_keys(['hk', 'vka', 'pump_rate_1', 'pump_rate_2'])"
      ]
     },
     "execution_count": 91,
     "metadata": {},
     "output_type": "execute_result"
    }
   ],
   "source": [
    "params.keys()"
   ]
  },
  {
   "cell_type": "code",
   "execution_count": 97,
   "metadata": {},
   "outputs": [
    {
     "data": {
      "text/plain": [
       "8222.2222222222226"
      ]
     },
     "execution_count": 97,
     "metadata": {},
     "output_type": "execute_result"
    }
   ],
   "source": [
    "pumping_rate1 = params['pump_rate_1'][1]\n",
    "pumping_rate1"
   ]
  },
  {
   "cell_type": "code",
   "execution_count": null,
   "metadata": {},
   "outputs": [],
   "source": [
    ""
   ]
  }
 ],
 "metadata": {
  "kernelspec": {
   "display_name": "Python 2",
   "language": "python",
   "name": "python2"
  },
  "language_info": {
   "codemirror_mode": {
    "name": "ipython",
    "version": 2.0
   },
   "file_extension": ".py",
   "mimetype": "text/x-python",
   "name": "python",
   "nbconvert_exporter": "python",
   "pygments_lexer": "ipython2",
   "version": "2.7.6"
  }
 },
 "nbformat": 4,
 "nbformat_minor": 0
}