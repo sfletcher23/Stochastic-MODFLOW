{
 "cells": [
  {
   "cell_type": "code",
   "execution_count": 2,
   "metadata": {
    "collapsed": true
   },
   "outputs": [],
   "source": [
    "#Import packages\n",
    "import numpy as np\n",
    "import scipy as sp\n",
    "import matplotlib as ml\n",
    "import os\n",
    "import sys\n",
    "flopypth = os.path.join('..', '..', 'flopy')\n",
    "if flopypth not in sys.path:\n",
    "    sys.path.append(flopypth)\n",
    "import flopy\n",
    "import flopy.utils.binaryfile as bf\n",
    "import subprocess\n",
    "import matplotlib.pyplot as plt\n",
    "import shutil\n",
    "from scipy.stats import uniform\n",
    "import scipy.io as io\n",
    "import datetime\n",
    "from scipy.stats import uniform\n",
    "from pyDOE import *"
   ]
  },
  {
   "cell_type": "code",
   "execution_count": 18,
   "metadata": {},
   "outputs": [],
   "source": [
    "# Plot settings\n",
    "plotContours = True\n",
    "plotHydrograph = True\n",
    "modflowSilent = False\n",
    "\n",
    "# Delete modflow files after use?\n",
    "deleteFiles = True\n",
    "\n",
    "# Save output?\n",
    "saveOutput = True\n",
    "\n",
    "# Parameter sample inputs\n",
    "hk_min = 1.e-3\n",
    "hk_max = 1.\n",
    "vka_min = 1.e-3\n",
    "vka_max = 1.e-2\n",
    "numWells = 2\n",
    "pump_min = -50000.\n",
    "pump_max = -3000.\n",
    "sampleSize = 5\n",
    "sy_min = .1\n",
    "sy_max = .3\n",
    "\n",
    "# Fixed Parameter Definitions\n",
    "# Model domain and grid definition\n",
    "Lx = 1000.\n",
    "Ly = 1000.\n",
    "ztop = 1000.\n",
    "zbot = 0.\n",
    "nlay = 1\n",
    "nrow = 50\n",
    "ncol = 50\n",
    "delr = Lx / ncol\n",
    "delc = Ly / nrow\n",
    "delv = (ztop - zbot) / nlay\n",
    "botm = np.linspace(ztop, zbot, nlay + 1)\n",
    "sy = 2.5e-1\n",
    "ss = 4.e-7\n",
    "laytyp = 1  # 1 = unconfined, 0 = confined\n",
    "hdry = 0    # dry cell head set to this number\n",
    "mxiter = 300\n",
    "hclose = 1e-1\n",
    "\n",
    "# Variables for the BAS package\n",
    "ibound = np.ones((nlay, nrow, ncol), dtype=np.int32)    # Not sure if GW uses 0 or 1\n",
    "strt = 1000 * np.ones((nlay, nrow, ncol), dtype=np.float32)     # Starting head\n",
    "\n",
    "# Time step parameters\n",
    "nper = 1    # number of stress periods\n",
    "perlen_max = 3000     # length of stress period\n",
    "perlen_min = 10\n",
    "nstp = 500      # Number of time steps per stress period\n",
    "steady = [False]\n",
    "\n",
    "# Well locations\n",
    "wpt1 = (0, 20-1, 37-1)\n",
    "wpt2 = (0, 37-1, 18-1)\n",
    "\n",
    "# Output control\n",
    "spd = {(0, 0): ['print head', 'save head']}"
   ]
  },
  {
   "cell_type": "code",
   "execution_count": 14,
   "metadata": {},
   "outputs": [
    {
     "data": {
      "text/plain": [
       "{'hk': array([ 0.00172323,  0.00457344,  0.00890958,  0.00764122,  0.00609154]),\n 'pumpVol': array([ 3735.0563533 ,  2687.83421493,  4835.15317162,  1269.43441553,\n         2146.5892269 ]),\n 'vka': array([ 0.00193207,  0.0006365 ,  0.00047292,  0.00109946,  0.00132117])}"
      ]
     },
     "execution_count": 14,
     "metadata": {},
     "output_type": "execute_result"
    }
   ],
   "source": [
    "sampleSize\n",
    "kwargs = {\"hk\": [.001, .01], \"vka\": [.0002, .002], 'pumpVol': [1000, 5000]}\n",
    "numParam = len(kwargs)\n",
    "lhd = lhs(numParam, samples=sampleSize)\n",
    "params = {}\n",
    "i = 0\n",
    "for key, value in kwargs.items():\n",
    "    loc = value[0]\n",
    "    scale = value[1] - value[0]\n",
    "    sample = uniform(loc=loc, scale=scale).ppf(lhd[:, i])\n",
    "    params[key] = sample\n",
    "    i += 1\n",
    "params"
   ]
  },
  {
   "cell_type": "code",
   "execution_count": 19,
   "metadata": {},
   "outputs": [],
   "source": [
    "def genParamSamples(sampleSize, **kwargs):\n",
    "    # kwargs contains parameters for LHS sampling. Each parameter is an array containing two \n",
    "    # values: the min paramter value and the max parameter value\n",
    "    \n",
    "    # Generate LHS samples\n",
    "    numParam = len(kwargs)\n",
    "    lhd = lhs(numParam, samples=sampleSize)\n",
    "    \n",
    "    # Loop through parameters, use LHS values to generate parameter samples\n",
    "    params = {}\n",
    "    i = 0\n",
    "    for key, value in kwargs.items():\n",
    "        loc = value[0]\n",
    "        scale = value[1] - value[0]\n",
    "        sample =  uniform(loc=loc, scale=scale).ppf(lhd[:, i])\n",
    "        params[key] = sample\n",
    "        i += 1 \n",
    "\n",
    "    # params is a dictionary where keys are parameter names and values are arrays of samples\n",
    "    return params"
   ]
  },
  {
   "cell_type": "code",
   "execution_count": 21,
   "metadata": {},
   "outputs": [
    {
     "name": "stdout",
     "output_type": "stream",
     "text": [
      "yaaaass\n"
     ]
    }
   ],
   "source": [
    "samples = genParamSamples(sampleSize=sampleSize, hk=[hk_min, hk_max], vka=[vka_min, vka_max], sy=[sy_min, sy_max])\n",
    "samples\n",
    "if 'hk' in samples:\n",
    "    print('yaaaass')"
   ]
  },
  {
   "cell_type": "code",
   "execution_count": 13,
   "metadata": {},
   "outputs": [
    {
     "name": "stdout",
     "output_type": "stream",
     "text": [
      "warning: assuming SpatialReference units are meters\n"
     ]
    },
    {
     "ename": "Exception",
     "evalue": "The program ./mf2005dbl does not exist or is not executable.",
     "traceback": [
      "\u001b[0;31m---------------------------------------------------------------------------\u001b[0m",
      "\u001b[0;31mException\u001b[0m                                 Traceback (most recent call last)",
      "\u001b[0;32m<ipython-input-13-d53810ad4304>\u001b[0m in \u001b[0;36m<module>\u001b[0;34m()\u001b[0m\n\u001b[1;32m     31\u001b[0m \u001b[0;34m\u001b[0m\u001b[0m\n\u001b[1;32m     32\u001b[0m \u001b[0;31m# Run the model\u001b[0m\u001b[0;34m\u001b[0m\u001b[0;34m\u001b[0m\u001b[0m\n\u001b[0;32m---> 33\u001b[0;31m \u001b[0msuccess\u001b[0m\u001b[0;34m,\u001b[0m \u001b[0mmodflow_output\u001b[0m \u001b[0;34m=\u001b[0m \u001b[0mmf\u001b[0m\u001b[0;34m.\u001b[0m\u001b[0mrun_model\u001b[0m\u001b[0;34m(\u001b[0m\u001b[0msilent\u001b[0m\u001b[0;34m=\u001b[0m\u001b[0mmodflowSilent\u001b[0m\u001b[0;34m,\u001b[0m \u001b[0mpause\u001b[0m\u001b[0;34m=\u001b[0m\u001b[0;32mFalse\u001b[0m\u001b[0;34m,\u001b[0m \u001b[0mreport\u001b[0m\u001b[0;34m=\u001b[0m\u001b[0;32mTrue\u001b[0m\u001b[0;34m)\u001b[0m\u001b[0;34m\u001b[0m\u001b[0m\n\u001b[0m\u001b[1;32m     34\u001b[0m \u001b[0mmodflow_success\u001b[0m\u001b[0;34m.\u001b[0m\u001b[0mappend\u001b[0m\u001b[0;34m(\u001b[0m\u001b[0msuccess\u001b[0m\u001b[0;34m)\u001b[0m\u001b[0;34m\u001b[0m\u001b[0m\n\u001b[1;32m     35\u001b[0m \u001b[0;34m\u001b[0m\u001b[0m\n",
      "\u001b[0;32m/usr/local/lib/python3.6/site-packages/flopy/mbase.py\u001b[0m in \u001b[0;36mrun_model\u001b[0;34m(self, silent, pause, report, normal_msg)\u001b[0m\n\u001b[1;32m    896\u001b[0m         return run_model(self.exe_name, self.namefile, model_ws=self.model_ws,\n\u001b[1;32m    897\u001b[0m                          \u001b[0msilent\u001b[0m\u001b[0;34m=\u001b[0m\u001b[0msilent\u001b[0m\u001b[0;34m,\u001b[0m \u001b[0mpause\u001b[0m\u001b[0;34m=\u001b[0m\u001b[0mpause\u001b[0m\u001b[0;34m,\u001b[0m \u001b[0mreport\u001b[0m\u001b[0;34m=\u001b[0m\u001b[0mreport\u001b[0m\u001b[0;34m,\u001b[0m\u001b[0;34m\u001b[0m\u001b[0m\n\u001b[0;32m--> 898\u001b[0;31m                          normal_msg=normal_msg)\n\u001b[0m\u001b[1;32m    899\u001b[0m \u001b[0;34m\u001b[0m\u001b[0m\n\u001b[1;32m    900\u001b[0m     \u001b[0;32mdef\u001b[0m \u001b[0mload_results\u001b[0m\u001b[0;34m(\u001b[0m\u001b[0mself\u001b[0m\u001b[0;34m)\u001b[0m\u001b[0;34m:\u001b[0m\u001b[0;34m\u001b[0m\u001b[0m\n",
      "\u001b[0;32m/usr/local/lib/python3.6/site-packages/flopy/mbase.py\u001b[0m in \u001b[0;36mrun_model\u001b[0;34m(exe_name, namefile, model_ws, silent, pause, report, normal_msg, async, cargs)\u001b[0m\n\u001b[1;32m   1283\u001b[0m         s = 'The program {} does not exist or is not executable.'.format(\n\u001b[1;32m   1284\u001b[0m             exe_name)\n\u001b[0;32m-> 1285\u001b[0;31m         \u001b[0;32mraise\u001b[0m \u001b[0mException\u001b[0m\u001b[0;34m(\u001b[0m\u001b[0ms\u001b[0m\u001b[0;34m)\u001b[0m\u001b[0;34m\u001b[0m\u001b[0m\n\u001b[0m\u001b[1;32m   1286\u001b[0m     \u001b[0;32melse\u001b[0m\u001b[0;34m:\u001b[0m\u001b[0;34m\u001b[0m\u001b[0m\n\u001b[1;32m   1287\u001b[0m         \u001b[0;32mif\u001b[0m \u001b[0;32mnot\u001b[0m \u001b[0msilent\u001b[0m\u001b[0;34m:\u001b[0m\u001b[0;34m\u001b[0m\u001b[0m\n",
      "\u001b[0;31mException\u001b[0m: The program ./mf2005dbl does not exist or is not executable."
     ],
     "output_type": "error"
    }
   ],
   "source": [
    "# Name model this run\n",
    "model_name = 'model' + str(i)\n",
    "\n",
    "# Get pumping rate same and make stress period dictionary\n",
    "pumping_rate1 = samples['pump_rate_1'][i]\n",
    "pumping_rate2 = samples['pump_rate_2'][i]\n",
    "wel_sp1 = [0, 19, 36, pumping_rate1] # Remember to use zero-based layer, row, column indices!\n",
    "wel_sp2 = [0, 36, 17, pumping_rate2]\n",
    "stress_period_data = {0: [wel_sp1, wel_sp2]}\n",
    "\n",
    "# Get hydraulic conductivty sample\n",
    "hk = samples['hk'][i]\n",
    "vka = samples['vka'][i]\n",
    "\n",
    "# Get perlen sample\n",
    "perlen = samples['time'][i]\n",
    "\n",
    "# Flopy objects\n",
    "mf = flopy.modflow.Modflow(model_name, exe_name='./mf2005dbl')\n",
    "dis = flopy.modflow.ModflowDis(mf, nlay, nrow, ncol, delr=delr, delc=delc,\n",
    "                               top=ztop, botm=botm[1:],\n",
    "                               nper=nper, perlen=perlen, nstp=nstp, steady=steady)\n",
    "bas = flopy.modflow.ModflowBas(mf, ibound=ibound, strt=strt)\n",
    "lpf = flopy.modflow.ModflowLpf(mf, hk=hk, vka=vka, sy=sy, ss=ss, laytyp=laytyp, hdry=hdry)\n",
    "pcg = flopy.modflow.ModflowPcg(mf, mxiter=mxiter, hclose=hclose)  # This has stuff like iterations for solver\n",
    "wel = flopy.modflow.ModflowWel(mf, stress_period_data=stress_period_data)\n",
    "oc = flopy.modflow.ModflowOc(mf, stress_period_data=spd)\n",
    "\n",
    "# Write the model input files\n",
    "mf.write_input()\n",
    "\n",
    "# Run the model\n",
    "success, modflow_output = mf.run_model(silent=modflowSilent, pause=False, report=True)\n",
    "modflow_success.append(success)\n",
    "\n",
    "# Create MODFLOW output file if there was an error\n",
    "if not success:\n",
    "    file = open('modflow_output' + str(i) + '.txt', 'w')\n",
    "    for n in modflow_output:\n",
    "        file.write(n + '\\n')\n",
    "    raise Warning('MODFLOW did not terminate normally.')"
   ]
  },
  {
   "cell_type": "code",
   "execution_count": 15,
   "metadata": {},
   "outputs": [
    {
     "data": {
      "text/plain": [
       "0.50049999999999994"
      ]
     },
     "execution_count": 15,
     "metadata": {},
     "output_type": "execute_result"
    }
   ],
   "source": [
    "import numpy as np\n",
    "hk_min = 1.e-3\n",
    "hk_max = 1.\n",
    "hk_avg = np.mean([hk_max, hk_min])\n",
    "hk_avg"
   ]
  },
  {
   "cell_type": "code",
   "execution_count": null,
   "metadata": {},
   "outputs": [],
   "source": [
    ""
   ]
  }
 ],
 "metadata": {
  "kernelspec": {
   "display_name": "Python 2",
   "language": "python",
   "name": "python2"
  },
  "language_info": {
   "codemirror_mode": {
    "name": "ipython",
    "version": 2.0
   },
   "file_extension": ".py",
   "mimetype": "text/x-python",
   "name": "python",
   "nbconvert_exporter": "python",
   "pygments_lexer": "ipython2",
   "version": "2.7.6"
  }
 },
 "nbformat": 4,
 "nbformat_minor": 0
}