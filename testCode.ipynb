{
 "cells": [
  {
   "cell_type": "code",
   "execution_count": 155,
   "metadata": {
    "collapsed": true
   },
   "outputs": [],
   "source": [
    "#Import packages\n",
    "import numpy as np\n",
    "import scipy as sp\n",
    "import matplotlib as ml\n",
    "import os\n",
    "import sys\n",
    "flopypth = os.path.join('..', '..', 'flopy')\n",
    "if flopypth not in sys.path:\n",
    "    sys.path.append(flopypth)\n",
    "import flopy\n",
    "import flopy.utils.binaryfile as bf\n",
    "import subprocess\n",
    "import matplotlib.pyplot as plt\n",
    "import shutil\n",
    "from scipy.stats import uniform\n",
    "from pyDOE import *"
   ]
  },
  {
   "cell_type": "code",
   "execution_count": 210,
   "metadata": {},
   "outputs": [],
   "source": [
    "hk_min = 1e-2\n",
    "hk_max = 10\n",
    "vka_min = 1e-3\n",
    "vka_max = 1\n",
    "numWells = 2\n",
    "pump_min = -50000.\n",
    "pump_max = -3000.\n",
    "sampleSize = 10\n",
    "time_min = 3000\n",
    "time_max = 4000\n",
    "n = 2"
   ]
  },
  {
   "cell_type": "code",
   "execution_count": 13,
   "metadata": {},
   "outputs": [
    {
     "data": {
      "text/plain": [
       "array([ 0.001,  0.112,  0.223,  0.334,  0.445,  0.556,  0.667,  0.778,\n        0.889,  1.   ])"
      ]
     },
     "execution_count": 13,
     "metadata": {},
     "output_type": "execute_result"
    }
   ],
   "source": [
    "# Generate arrays of hk and vka\n",
    "hk = np.linspace(hk_min, hk_max, num=sampleSize)\n",
    "vka = np.linspace(vka_min,vka_max,num=sampleSize)\n",
    "hk\n",
    "vka"
   ]
  },
  {
   "cell_type": "code",
   "execution_count": 8,
   "metadata": {},
   "outputs": [
    {
     "data": {
      "text/plain": [
       "[0, 1]"
      ]
     },
     "execution_count": 8,
     "metadata": {},
     "output_type": "execute_result"
    }
   ],
   "source": [
    "list(range(numWells))"
   ]
  },
  {
   "cell_type": "code",
   "execution_count": 18,
   "metadata": {},
   "outputs": [
    {
     "data": {
      "text/plain": [
       "['hk', 'vka', 'pump_rate_1', 'pump_rate_2']"
      ]
     },
     "execution_count": 18,
     "metadata": {},
     "output_type": "execute_result"
    }
   ],
   "source": [
    "params_in_sample = ['hk', 'vka']\n",
    "for n in range(numWells):\n",
    "    params_in_sample.append('pump_rate_' + str(n+1))\n",
    "params_in_sample"
   ]
  },
  {
   "cell_type": "code",
   "execution_count": 69,
   "metadata": {},
   "outputs": [
    {
     "data": {
      "text/plain": [
       "[array([[  3000.        ,   8222.22222222,  13444.44444444,  18666.66666667,\n          23888.88888889,  29111.11111111,  34333.33333333,  39555.55555556,\n          44777.77777778,  50000.        ]]),\n array([[  3000.        ,   8222.22222222,  13444.44444444,  18666.66666667,\n          23888.88888889,  29111.11111111,  34333.33333333,  39555.55555556,\n          44777.77777778,  50000.        ]])]"
      ]
     },
     "execution_count": 69,
     "metadata": {},
     "output_type": "execute_result"
    }
   ],
   "source": [
    "pump = np.zeros([numWells, sampleSize])\n",
    "for n in range(numWells):\n",
    "    pump[n,:] = np.linspace(pump_min, pump_max, num=sampleSize)\n",
    "        \n",
    "pumpSplit"
   ]
  },
  {
   "cell_type": "code",
   "execution_count": 71,
   "metadata": {},
   "outputs": [
    {
     "data": {
      "text/plain": [
       "array([[  1.00000000e-02,   1.12000000e+00,   2.23000000e+00,\n          3.34000000e+00,   4.45000000e+00,   5.56000000e+00,\n          6.67000000e+00,   7.78000000e+00,   8.89000000e+00,\n          1.00000000e+01],\n       [  1.00000000e-03,   1.12000000e-01,   2.23000000e-01,\n          3.34000000e-01,   4.45000000e-01,   5.56000000e-01,\n          6.67000000e-01,   7.78000000e-01,   8.89000000e-01,\n          1.00000000e+00],\n       [  3.00000000e+03,   8.22222222e+03,   1.34444444e+04,\n          1.86666667e+04,   2.38888889e+04,   2.91111111e+04,\n          3.43333333e+04,   3.95555556e+04,   4.47777778e+04,\n          5.00000000e+04],\n       [  3.00000000e+03,   8.22222222e+03,   1.34444444e+04,\n          1.86666667e+04,   2.38888889e+04,   2.91111111e+04,\n          3.43333333e+04,   3.95555556e+04,   4.47777778e+04,\n          5.00000000e+04]])"
      ]
     },
     "execution_count": 71,
     "metadata": {},
     "output_type": "execute_result"
    }
   ],
   "source": [
    "pumpSplit = np.split(pump,numWells)\n",
    "param_sample = np.stack([hk, vka])\n",
    "for i in range(numWells):\n",
    "    param_sample = np.append(param_sample,pumpSplit[i], axis=0)\n",
    "param_sample"
   ]
  },
  {
   "cell_type": "code",
   "execution_count": 73,
   "metadata": {},
   "outputs": [
    {
     "data": {
      "text/plain": [
       "array([[  1.00000000e-02,   1.12000000e+00,   2.23000000e+00,\n          3.34000000e+00,   4.45000000e+00,   5.56000000e+00,\n          6.67000000e+00,   7.78000000e+00,   8.89000000e+00,\n          1.00000000e+01],\n       [  1.00000000e-03,   1.12000000e-01,   2.23000000e-01,\n          3.34000000e-01,   4.45000000e-01,   5.56000000e-01,\n          6.67000000e-01,   7.78000000e-01,   8.89000000e-01,\n          1.00000000e+00],\n       [  3.00000000e+03,   8.22222222e+03,   1.34444444e+04,\n          1.86666667e+04,   2.38888889e+04,   2.91111111e+04,\n          3.43333333e+04,   3.95555556e+04,   4.47777778e+04,\n          5.00000000e+04],\n       [  3.00000000e+03,   8.22222222e+03,   1.34444444e+04,\n          1.86666667e+04,   2.38888889e+04,   2.91111111e+04,\n          3.43333333e+04,   3.95555556e+04,   4.47777778e+04,\n          5.00000000e+04]])"
      ]
     },
     "execution_count": 73,
     "metadata": {},
     "output_type": "execute_result"
    }
   ],
   "source": [
    "# Generate list of all paramters\n",
    "params_in_sample = ['hk', 'vka']\n",
    "for n in range(numWells):\n",
    "    params_in_sample.append('pump_rate_' + str(n+1))\n",
    "\n",
    "# Generate arrays of hk and vka\n",
    "hk = np.linspace(hk_min, hk_max, num=sampleSize)\n",
    "vka = np.linspace(vka_min,vka_max,num=sampleSize)\n",
    "\n",
    "# Generate arrays of pumping rate\n",
    "pump = np.zeros([numWells, sampleSize])\n",
    "for n in range(numWells):\n",
    "    pump[n,:] = np.linspace(pump_min, pump_max, num=sampleSize)\n",
    "    \n",
    "# Combine to form paramSample\n",
    "pumpSplit = np.split(pump,numWells)\n",
    "param_sample = np.stack([hk, vka])\n",
    "for i in range(numWells):\n",
    "    param_sample = np.append(param_sample,pumpSplit[i], axis=0)\n",
    "    \n",
    "param_sample"
   ]
  },
  {
   "cell_type": "code",
   "execution_count": 140,
   "metadata": {},
   "outputs": [
    {
     "data": {
      "text/plain": [
       "array([ 9.86352585,  3.0567227 ,  5.1064603 ,  2.47422919,  9.82114895,\n        3.85264791,  1.67685073,  5.15602897,  1.45015831,  7.03355182])"
      ]
     },
     "execution_count": 140,
     "metadata": {},
     "output_type": "execute_result"
    }
   ],
   "source": [
    "from scipy.stats import uniform\n",
    "scale = hk_max - hk_min\n",
    "hk_sample = uniform.rvs(loc=hk_min, scale=scale, size=sampleSize)\n",
    "hk_sample"
   ]
  },
  {
   "cell_type": "code",
   "execution_count": 213,
   "metadata": {},
   "outputs": [],
   "source": [
    "# Write function to generate range of inputs for hk, vka, pumping rate in each well\n",
    "def genParamSamples(hk_min, hk_max, vka_min, vka_max, numWells, pump_min, pump_max, time_min, time_max, sampleSize):\n",
    "    \n",
    "    # Generate list of all paramters\n",
    "    params_in_sample = ['hk', 'vka', 'time']\n",
    "    for n in range(numWells):\n",
    "        params_in_sample.append('pump_rate_' + str(n+1))\n",
    "        \n",
    "    # Generate LHS samples\n",
    "    numParam = np.size(params_in_sample)\n",
    "    lhd = lhs(numParam, samples=sampleSize)\n",
    "    \n",
    "    # Generate arrays of hk and vka\n",
    "    loc = hk_min\n",
    "    scale = hk_max - hk_min\n",
    "    hk = uniform(loc=loc, scale=scale).ppf(lhd[:, 0])\n",
    "    loc = vka_min\n",
    "    scale = vka_max - vka_min\n",
    "    vka = uniform(loc=loc, scale=scale).ppf(lhd[:, 1])\n",
    "    \n",
    "    # Generate arrays of time\n",
    "    loc = time_min\n",
    "    scale = time_max - time_min\n",
    "    time = uniform(loc=loc, scale=scale).ppf(lhd[:, 2])\n",
    "    \n",
    "    # Generate arrays of pumping rate\n",
    "    pump = np.zeros([numWells, sampleSize])\n",
    "    loc = pump_min\n",
    "    scale = pump_max - pump_min\n",
    "    for n in range(numWells):\n",
    "        pump[n, :] = uniform(loc=loc, scale=scale).ppf(lhd[:, 3+n])\n",
    "        \n",
    "        \n",
    "    # Combine to form paramSample\n",
    "    pumpSplit = np.split(pump, numWells)\n",
    "    param_sample = np.stack([hk, vka, time])\n",
    "    for i in range(numWells):\n",
    "        param_sample = np.append(param_sample, pumpSplit[i], axis=0)\n",
    "\n",
    "    # Create dictionary with samples for each parameter\n",
    "    params = dict(zip(params_in_sample, param_sample))\n",
    "\n",
    "    return params"
   ]
  },
  {
   "cell_type": "code",
   "execution_count": 214,
   "metadata": {},
   "outputs": [
    {
     "data": {
      "text/plain": [
       "{'hk': array([ 1.48790884,  6.57782124,  8.00677412,  9.15345579,  3.4920507 ,\n         4.09671132,  7.52066836,  2.5959285 ,  0.975651  ,  5.786026  ]),\n 'pump_rate_1': array([-40431.61189838, -23116.96694447, -18099.28499085, -26510.83635235,\n        -42612.37102199,  -3146.57086647, -45593.04775808,  -8137.45519388,\n        -34426.96771837, -15596.84788955]),\n 'pump_rate_2': array([-15577.49199887, -43008.02316716,  -4088.97111146, -19847.42271296,\n        -48177.23350831, -38229.39834795, -23774.56745761, -30676.33297892,\n         -8457.34116508, -31588.24452393]),\n 'time': array([ 3420.37738037,  3287.95919722,  3944.84911418,  3034.70540675,\n         3638.42816229,  3819.32226021,  3391.01223203,  3161.06622547,\n         3711.29239899,  3586.54302568]),\n 'vka': array([ 0.93616877,  0.31941607,  0.71152071,  0.14357281,  0.03917896,\n         0.63049969,  0.87050117,  0.29436692,  0.58177696,  0.45427504])}"
      ]
     },
     "execution_count": 214,
     "metadata": {},
     "output_type": "execute_result"
    }
   ],
   "source": [
    "params = genParamSamples(hk_min, hk_max, vka_min, vka_max, numWells, pump_min, pump_max, time_min, time_max, sampleSize)\n",
    "params"
   ]
  },
  {
   "cell_type": "code",
   "execution_count": 216,
   "metadata": {},
   "outputs": [
    {
     "data": {
      "text/plain": [
       "3420.3773803657764"
      ]
     },
     "execution_count": 216,
     "metadata": {},
     "output_type": "execute_result"
    }
   ],
   "source": [
    "perlen = params['time'][i]\n",
    "perlen"
   ]
  },
  {
   "cell_type": "code",
   "execution_count": 200,
   "metadata": {},
   "outputs": [
    {
     "data": {
      "text/plain": [
       "array([[ -9348.57399292, -33353.90506993, -18154.44794339, -37850.31760968,\n         -3677.11370142, -16278.62441971, -27706.17543349, -49204.67923356,\n        -23113.47708845, -40814.05886537],\n       [ -4443.00280899, -29198.73226084, -26418.06512817, -18574.01939047,\n        -49215.50134805, -15914.37984226, -42747.72223013,  -8229.34010933,\n        -40503.86392735, -34323.42394513]])"
      ]
     },
     "execution_count": 200,
     "metadata": {},
     "output_type": "execute_result"
    }
   ],
   "source": [
    "pump = np.zeros([numWells, sampleSize])\n",
    "loc = pump_min\n",
    "scale = pump_max - pump_min\n",
    "for n = (range(numWells-1)\n",
    "pump[0, :] = uniform(loc=loc, scale=scale).ppf(lhd[:, 2])\n",
    "pump[1, :] = uniform(loc=loc, scale=scale).ppf(lhd[:, 3])\n",
    "pump"
   ]
  },
  {
   "cell_type": "code",
   "execution_count": 193,
   "metadata": {},
   "outputs": [],
   "source": [
    ""
   ]
  },
  {
   "cell_type": "code",
   "execution_count": null,
   "metadata": {},
   "outputs": [],
   "source": [
    ""
   ]
  }
 ],
 "metadata": {
  "kernelspec": {
   "display_name": "Python 2",
   "language": "python",
   "name": "python2"
  },
  "language_info": {
   "codemirror_mode": {
    "name": "ipython",
    "version": 2.0
   },
   "file_extension": ".py",
   "mimetype": "text/x-python",
   "name": "python",
   "nbconvert_exporter": "python",
   "pygments_lexer": "ipython2",
   "version": "2.7.6"
  }
 },
 "nbformat": 4,
 "nbformat_minor": 0
}